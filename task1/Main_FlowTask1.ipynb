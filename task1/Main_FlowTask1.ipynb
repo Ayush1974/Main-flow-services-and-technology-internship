{
 "cells": [
  {
   "cell_type": "markdown",
   "metadata": {},
   "source": [
    "<html>\n",
    "    <body>\n",
    "    <h1 style=\"color:red;\">list</h1>\n",
    "    </body>\n",
    "</html>\n"
   ]
  },
  {
   "cell_type": "code",
   "execution_count": 3,
   "metadata": {},
   "outputs": [
    {
     "name": "stdout",
     "output_type": "stream",
     "text": [
      "[10, 15, 20, 25, 30]\n"
     ]
    }
   ],
   "source": [
    "my_list= [10,15,20,25,30]#creating a list\n",
    "print(my_list)"
   ]
  },
  {
   "cell_type": "code",
   "execution_count": 5,
   "metadata": {},
   "outputs": [
    {
     "name": "stdout",
     "output_type": "stream",
     "text": [
      "30\n"
     ]
    }
   ],
   "source": [
    "print(my_list[-1])#negative index"
   ]
  },
  {
   "cell_type": "code",
   "execution_count": 8,
   "metadata": {},
   "outputs": [
    {
     "name": "stdout",
     "output_type": "stream",
     "text": [
      "Length of the list: 5\n",
      "Length of the List now: 6\n"
     ]
    }
   ],
   "source": [
    "print(\"Length of the list:\",len(my_list))\n",
    "my_list.append(35)#appending  at last of the list\n",
    "print(\"Length of the List now:\", len(my_list))"
   ]
  },
  {
   "cell_type": "code",
   "execution_count": 14,
   "metadata": {},
   "outputs": [
    {
     "name": "stdout",
     "output_type": "stream",
     "text": [
      "[17, 15, 25, 30, 35, 3, 3]\n"
     ]
    }
   ],
   "source": [
    "#my_list.insert(1,17)\n",
    "print(my_list[1:])\n",
    "my_list.remove(3)"
   ]
  },
  {
   "cell_type": "code",
   "execution_count": 17,
   "metadata": {},
   "outputs": [
    {
     "data": {
      "text/plain": [
       "[3, 10, 15, 17, 25, 30, 35]"
      ]
     },
     "execution_count": 17,
     "metadata": {},
     "output_type": "execute_result"
    }
   ],
   "source": [
    "my_list.sort()\n",
    "my_list#sorted list"
   ]
  },
  {
   "cell_type": "markdown",
   "metadata": {},
   "source": [
    "<html>\n",
    "    <body>\n",
    "    <h1 style=\"color:blue;\">Dictionary</h1>\n",
    "    </body>\n",
    "</html>\n"
   ]
  },
  {
   "cell_type": "code",
   "execution_count": 19,
   "metadata": {},
   "outputs": [
    {
     "name": "stdout",
     "output_type": "stream",
     "text": [
      "{'brand': 'Ford', 'model': 'Mustang', 'year': 1964}\n",
      "<class 'dict'>\n"
     ]
    }
   ],
   "source": [
    "thisdict = {\n",
    "  \"brand\": \"Ford\",\n",
    "  \"model\": \"Mustang\",\n",
    "  \"year\": 1964\n",
    "}\n",
    "print(thisdict)\n",
    "print(type(thisdict))"
   ]
  },
  {
   "cell_type": "code",
   "execution_count": 31,
   "metadata": {},
   "outputs": [
    {
     "name": "stdout",
     "output_type": "stream",
     "text": [
      "{'brand': 'ford', 'model': 'GT', 'year': 1970}\n",
      "\tUpdate\n",
      "{'brand': 'DMC', 'model': 'VW', 'year': 1973}\n",
      "Accessing a element using get: VW\n"
     ]
    }
   ],
   "source": [
    "thisdict = dict(brand = \"ford\", model = \"GT\", year = 1970)\n",
    "print(thisdict)\n",
    "print(\"\\tUpdate\")\n",
    "# update dict value\n",
    "thisdict['brand'] = 'DMC'\n",
    "thisdict['model'] = 'VW'\n",
    "thisdict['year'] = 1973\n",
    "print(thisdict)\n",
    "\n",
    "print(\"Accessing a element using get:\",thisdict.get('model')) \n"
   ]
  },
  {
   "cell_type": "code",
   "execution_count": 1,
   "metadata": {},
   "outputs": [
    {
     "name": "stdout",
     "output_type": "stream",
     "text": [
      "{1: 'Python', 2: 'Java', 3: 'Ruby', 4: 'Scala'}\n",
      "{}\n",
      "Python\n",
      "dict_items([(1, 'Python'), (2, 'Java'), (3, 'Ruby'), (4, 'Scala')])\n",
      "dict_keys([1, 2, 3, 4])\n",
      "{1: 'Python', 2: 'Java', 3: 'Ruby'}\n",
      "{1: 'Python', 2: 'Java'}\n",
      "{1: 'Python', 2: 'Java', 3: 'Scala'}\n",
      "dict_values(['Python', 'Java', 'Scala'])\n"
     ]
    }
   ],
   "source": [
    "dict1 = {1: \"Python\", 2: \"Java\", 3: \"Ruby\", 4: \"Scala\"} \n",
    "dict2 = dict1.copy() \n",
    "print(dict2) \n",
    "dict1.clear() \n",
    "print(dict1) \n",
    "print(dict2.get(1)) \n",
    "print(dict2.items()) \n",
    "print(dict2.keys()) \n",
    "dict2.pop(4) \n",
    "print(dict2) \n",
    "dict2.popitem() \n",
    "print(dict2) \n",
    "dict2.update({3: \"Scala\"}) \n",
    "print(dict2) \n",
    "print(dict2.values()) "
   ]
  },
  {
   "cell_type": "markdown",
   "metadata": {},
   "source": [
    "<html>\n",
    "    <body>\n",
    "    <h1 style=\"color:Green;\">Set</h1>\n",
    "    </body>\n",
    "</html>\n"
   ]
  },
  {
   "cell_type": "code",
   "execution_count": 2,
   "metadata": {},
   "outputs": [
    {
     "name": "stdout",
     "output_type": "stream",
     "text": [
      "Student ID: {112, 114, 115, 116, 118}\n",
      "Vowel Letters: {'a', 'e', 'i', 'u', 'o'}\n",
      "Set of mixed data types: {'Bye', 101, -2, 'Hello'}\n"
     ]
    }
   ],
   "source": [
    "# create a set of integer type\n",
    "student_id = {112, 114, 116, 118, 115}\n",
    "print('Student ID:', student_id)\n",
    "\n",
    "# create a set of string type\n",
    "vowel_letters = {'a', 'e', 'i', 'o', 'u'}\n",
    "print('Vowel Letters:', vowel_letters)\n",
    "\n",
    "# create a set of mixed data types\n",
    "mixed_set = {'Hello', 101, -2, 'Bye'}\n",
    "print('Set of mixed data types:', mixed_set)"
   ]
  },
  {
   "cell_type": "code",
   "execution_count": 4,
   "metadata": {},
   "outputs": [
    {
     "name": "stdout",
     "output_type": "stream",
     "text": [
      "{8, 2, 4, 6}\n",
      "Initial Set: {34, 12, 21, 54}\n",
      "Updated Set: {32, 34, 12, 21, 54}\n"
     ]
    }
   ],
   "source": [
    "numbers = {2, 4, 6, 6, 2, 8}\n",
    "print(numbers)   # {8, 2, 4, 6}\n",
    "numbers = {21, 34, 54, 12}\n",
    "\n",
    "print('Initial Set:',numbers)\n",
    "\n",
    "# using add() method\n",
    "numbers.add(32)\n",
    "\n",
    "print('Updated Set:', numbers) "
   ]
  },
  {
   "cell_type": "code",
   "execution_count": 5,
   "metadata": {},
   "outputs": [
    {
     "name": "stdout",
     "output_type": "stream",
     "text": [
      "{'Ralph Lauren', 'Lacoste', 'apple', 'google'}\n"
     ]
    }
   ],
   "source": [
    "companies = {'Lacoste', 'Ralph Lauren'}\n",
    "tech_companies = ['apple', 'google', 'apple']\n",
    "\n",
    "# using update() method\n",
    "companies.update(tech_companies)\n",
    "\n",
    "print(companies)"
   ]
  },
  {
   "cell_type": "code",
   "execution_count": 6,
   "metadata": {},
   "outputs": [
    {
     "name": "stdout",
     "output_type": "stream",
     "text": [
      "Initial Set: {'Python', 'Swift', 'Java'}\n",
      "Set after remove(): {'Python', 'Swift'}\n"
     ]
    }
   ],
   "source": [
    "languages = {'Swift', 'Java', 'Python'}\n",
    "\n",
    "print('Initial Set:',languages)\n",
    "\n",
    "# remove 'Java' from a set\n",
    "removedValue = languages.discard('Java')\n",
    "\n",
    "print('Set after remove():', languages)"
   ]
  },
  {
   "cell_type": "code",
   "execution_count": 8,
   "metadata": {},
   "outputs": [
    {
     "name": "stdout",
     "output_type": "stream",
     "text": [
      "Set: {8, 2, 4, 6}\n",
      "Total Elements: 4\n",
      "Union using |: {0, 1, 2, 3, 4, 5}\n",
      "Union using union(): {0, 1, 2, 3, 4, 5}\n",
      "Intersection using &: {1, 3}\n",
      "Intersection using intersection(): {1, 3}\n"
     ]
    }
   ],
   "source": [
    "even_numbers = {2,4,6,8}\n",
    "print('Set:',even_numbers)\n",
    "\n",
    "# find number of elements\n",
    "print('Total Elements:', len(even_numbers))\n",
    "\n",
    "\n",
    "# first set\n",
    "A = {1, 3, 5}\n",
    "\n",
    "# second set\n",
    "B = {0, 2, 4}\n",
    "\n",
    "# perform union operation using |\n",
    "print('Union using |:', A | B)\n",
    "\n",
    "# perform union operation using union()\n",
    "print('Union using union():', A.union(B)) \n",
    "\n",
    "# first set\n",
    "A = {1, 3, 5}\n",
    "\n",
    "# second set\n",
    "B = {1, 2, 3}\n",
    "\n",
    "# perform intersection operation using &\n",
    "print('Intersection using &:', A & B)\n",
    "\n",
    "# perform intersection operation using intersection()\n",
    "print('Intersection using intersection():', A.intersection(B)) "
   ]
  },
  {
   "cell_type": "code",
   "execution_count": 9,
   "metadata": {},
   "outputs": [
    {
     "name": "stdout",
     "output_type": "stream",
     "text": [
      "Set A and Set B are equal\n"
     ]
    }
   ],
   "source": [
    "# first set\n",
    "A = {1, 3, 5}\n",
    "\n",
    "# second set\n",
    "B = {3, 5, 1}\n",
    "\n",
    "# perform difference operation using &\n",
    "if A == B:\n",
    "    print('Set A and Set B are equal')\n",
    "else:\n",
    "    print('Set A and Set B are not equal')"
   ]
  }
 ],
 "metadata": {
  "kernelspec": {
   "display_name": "Python 3 (ipykernel)",
   "language": "python",
   "name": "python3"
  },
  "language_info": {
   "codemirror_mode": {
    "name": "ipython",
    "version": 3
   },
   "file_extension": ".py",
   "mimetype": "text/x-python",
   "name": "python",
   "nbconvert_exporter": "python",
   "pygments_lexer": "ipython3",
   "version": "3.11.7"
  },
  "widgets": {
   "application/vnd.jupyter.widget-state+json": {
    "state": {},
    "version_major": 2,
    "version_minor": 0
   }
  }
 },
 "nbformat": 4,
 "nbformat_minor": 4
}
